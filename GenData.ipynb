{
 "cells": [
  {
   "cell_type": "code",
   "execution_count": null,
   "metadata": {
    "collapsed": false
   },
   "outputs": [],
   "source": [
    "import matplotlib.pyplot as plt\n",
    "import numpy as np\n",
    "import random\n",
    "\n",
    "\n",
    "numSamples = 2000 # sample count\n",
    "minPeriod = 20\n",
    "maxPeriod = 200\n",
    "noiseAmplitude = 1 #Noise amplitude as a percent of signal amplitude\n",
    "\n",
    "numTrue = 5\n",
    "numFalse = 5\n",
    "X_True = []\n",
    "X_False = []\n",
    "\n",
    "testSetSize = 0.2 #Size of test size as a fraction of total dataset size\n",
    "\n",
    "for i in range(numTrue) :\n",
    "    \n",
    "    \n",
    "    period = random.randint(minPeriod , maxPeriod)  # period\n",
    "    width = random.randint( int(minPeriod/2) , int(maxPeriod/2))   # width of pulse\n",
    "\n",
    "    signal = np.arange(numSamples) % period < width\n",
    "    signal = signal.astype(int)\n",
    "    signal = signal * (-1)\n",
    "    signal = signal * 100\n",
    "\n",
    "    noise = noiseAmplitude * ( np.random.normal(0, 1, numSamples) )\n",
    "\n",
    "    finalSignal = signal + noise \n",
    "    X_True.append(finalSignal.tolist())\n",
    "\n",
    "    plt.plot(finalSignal)\n",
    "    plt.ylim(-200, 200)\n",
    "    plt.xlim(0, 300)\n",
    "    plt.show()\n",
    "    \n",
    "y_True = np.ones(numTrue).tolist()\n",
    "print(\"True dataset made\")\n",
    "\n",
    "\n",
    "for i in range(numFalse) :\n",
    "    blankNoise = 100 * ( np.random.normal(0, 1, numSamples) )\n",
    "    \n",
    "    X_False.append(blankNoise.tolist())\n",
    "    plt.plot(blankNoise)\n",
    "    plt.ylim(-200, 200)\n",
    "    plt.xlim(0, 300)\n",
    "    plt.show()\n",
    "\n",
    "y_False = np.zeros(numFalse).tolist()\n",
    "print(\"False dataset made\")\n",
    "\n",
    "X = X_True + X_False\n",
    "y = y_True + y_False\n",
    "\n",
    "\n",
    "testIdx = random.sample(range(0, len(X)), int(testSetSize * len(X) ))\n",
    "trainIdx = list( set(range(0, len(X))) - set(testIdx) )\n",
    "random.shuffle(trainIdx)\n",
    "X_test = [X[i] for i in testIdx]\n",
    "X_train = [X[i] for i in trainIdx]\n",
    "y_test = [y[i] for i in testIdx]\n",
    "y_train = [y[i] for i in trainIdx]\n",
    "print(\"Test and Train sets made\")"
   ]
  },
  {
   "cell_type": "code",
   "execution_count": 3,
   "metadata": {
    "collapsed": false
   },
   "outputs": [],
   "source": [
    "X_train = np.asarray(X_train)"
   ]
  },
  {
   "cell_type": "code",
   "execution_count": 4,
   "metadata": {
    "collapsed": false
   },
   "outputs": [
    {
     "name": "stdout",
     "output_type": "stream",
     "text": [
      "[[ 120.18232955   29.59633993   89.06684291 ...,   -4.20379643\n",
      "   -22.80765946  -95.42267296]\n",
      " [-108.31263637  -93.62100132 -101.84033814 ..., -101.84010954\n",
      "     4.68624263   -4.75212477]\n",
      " [   5.1025935    13.5179724   -57.03103249 ...,   25.86077722\n",
      "  -125.42774483   11.79484105]\n",
      " ..., \n",
      " [  63.57612081  -17.96017959 -128.61316678 ...,    2.85340068\n",
      "    12.24007434   61.62875753]\n",
      " [-104.985775    -97.78430222 -103.34186271 ...,    0.68303449\n",
      "    12.77482152   -5.36408911]\n",
      " [-126.83382678 -101.88938319 -196.48646166 ..., -160.95761842\n",
      "   114.08672414  -68.29541413]]\n"
     ]
    }
   ],
   "source": [
    "print(X_train)"
   ]
  },
  {
   "cell_type": "code",
   "execution_count": 5,
   "metadata": {
    "collapsed": false
   },
   "outputs": [
    {
     "name": "stdout",
     "output_type": "stream",
     "text": [
      "[[ 120.18232955   29.59633993   89.06684291 ...,   -4.20379643\n",
      "   -22.80765946  -95.42267296]\n",
      " [-108.31263637  -93.62100132 -101.84033814 ..., -101.84010954\n",
      "     4.68624263   -4.75212477]\n",
      " [   5.1025935    13.5179724   -57.03103249 ...,   25.86077722\n",
      "  -125.42774483   11.79484105]\n",
      " ..., \n",
      " [  63.57612081  -17.96017959 -128.61316678 ...,    2.85340068\n",
      "    12.24007434   61.62875753]\n",
      " [-104.985775    -97.78430222 -103.34186271 ...,    0.68303449\n",
      "    12.77482152   -5.36408911]\n",
      " [-126.83382678 -101.88938319 -196.48646166 ..., -160.95761842\n",
      "   114.08672414  -68.29541413]]\n"
     ]
    }
   ],
   "source": [
    "print(np.asarray(X_train))"
   ]
  },
  {
   "cell_type": "code",
   "execution_count": null,
   "metadata": {
    "collapsed": true
   },
   "outputs": [],
   "source": []
  }
 ],
 "metadata": {
  "kernelspec": {
   "display_name": "Python 2",
   "language": "python",
   "name": "python2"
  },
  "language_info": {
   "codemirror_mode": {
    "name": "ipython",
    "version": 2
   },
   "file_extension": ".py",
   "mimetype": "text/x-python",
   "name": "python",
   "nbconvert_exporter": "python",
   "pygments_lexer": "ipython2",
   "version": "2.7.11"
  }
 },
 "nbformat": 4,
 "nbformat_minor": 0
}
