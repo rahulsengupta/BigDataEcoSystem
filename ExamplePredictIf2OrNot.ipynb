{
 "cells": [
  {
   "cell_type": "code",
   "execution_count": null,
   "metadata": {
    "collapsed": false
   },
   "outputs": [
    {
     "name": "stdout",
     "output_type": "stream",
     "text": [
      "Epoch 1/100\n",
      "10000/10000 [==============================] - 2s - loss: 0.6741 - acc: 0.6013     \n",
      "Epoch 2/100\n",
      "10000/10000 [==============================] - 2s - loss: 0.6694 - acc: 0.6095     \n",
      "Epoch 3/100\n",
      "10000/10000 [==============================] - 2s - loss: 0.6693 - acc: 0.6095     \n",
      "Epoch 4/100\n",
      "10000/10000 [==============================] - 2s - loss: 0.6693 - acc: 0.6095     \n",
      "Epoch 5/100\n",
      "10000/10000 [==============================] - 2s - loss: 0.6693 - acc: 0.6095     \n",
      "Epoch 6/100\n",
      "10000/10000 [==============================] - 2s - loss: 0.6693 - acc: 0.6095     \n",
      "Epoch 7/100\n",
      "10000/10000 [==============================] - 1s - loss: 0.6692 - acc: 0.6095     \n",
      "Epoch 8/100\n",
      "10000/10000 [==============================] - 1s - loss: 0.6693 - acc: 0.6095     \n",
      "Epoch 9/100\n",
      "10000/10000 [==============================] - 1s - loss: 0.6691 - acc: 0.6095     \n",
      "Epoch 10/100\n",
      "10000/10000 [==============================] - 1s - loss: 0.6692 - acc: 0.6095     \n",
      "Epoch 11/100\n",
      "10000/10000 [==============================] - 1s - loss: 0.6690 - acc: 0.6095     \n",
      "Epoch 12/100\n",
      "10000/10000 [==============================] - 1s - loss: 0.6692 - acc: 0.6095     \n",
      "Epoch 13/100\n",
      "10000/10000 [==============================] - 1s - loss: 0.6693 - acc: 0.6095     \n",
      "Epoch 14/100\n",
      "10000/10000 [==============================] - 1s - loss: 0.6699 - acc: 0.6095     \n",
      "Epoch 15/100\n",
      "10000/10000 [==============================] - 1s - loss: 0.6692 - acc: 0.6095     \n",
      "Epoch 16/100\n",
      "10000/10000 [==============================] - 1s - loss: 0.6693 - acc: 0.6095     \n",
      "Epoch 17/100\n",
      "10000/10000 [==============================] - 1s - loss: 0.6691 - acc: 0.6095     \n",
      "Epoch 18/100\n",
      "10000/10000 [==============================] - 1s - loss: 0.6692 - acc: 0.6095     \n",
      "Epoch 19/100\n",
      "10000/10000 [==============================] - 1s - loss: 0.6692 - acc: 0.6095     \n",
      "Epoch 20/100\n",
      "10000/10000 [==============================] - 1s - loss: 0.6693 - acc: 0.6095     \n",
      "Epoch 21/100\n",
      "10000/10000 [==============================] - 1s - loss: 0.6691 - acc: 0.6095     \n",
      "Epoch 22/100\n",
      "10000/10000 [==============================] - 1s - loss: 0.6692 - acc: 0.6095     \n",
      "Epoch 23/100\n",
      "10000/10000 [==============================] - 1s - loss: 0.6691 - acc: 0.6095     \n",
      "Epoch 24/100\n",
      "10000/10000 [==============================] - 1s - loss: 0.6693 - acc: 0.6095     \n",
      "Epoch 25/100\n",
      "10000/10000 [==============================] - 1s - loss: 0.6690 - acc: 0.6095     \n",
      "Epoch 26/100\n",
      "10000/10000 [==============================] - 1s - loss: 0.6690 - acc: 0.6095     \n",
      "Epoch 27/100\n",
      "10000/10000 [==============================] - 1s - loss: 0.6692 - acc: 0.6095     \n",
      "Epoch 28/100\n",
      "10000/10000 [==============================] - 1s - loss: 0.6690 - acc: 0.6095     \n",
      "Epoch 29/100\n",
      "10000/10000 [==============================] - 1s - loss: 0.6690 - acc: 0.6095     \n",
      "Epoch 30/100\n",
      "10000/10000 [==============================] - 1s - loss: 0.6692 - acc: 0.6095     \n",
      "Epoch 31/100\n",
      "10000/10000 [==============================] - 1s - loss: 0.6690 - acc: 0.6095     \n",
      "Epoch 32/100\n",
      " 2560/10000 [======>.......................] - ETA: 1s - loss: 0.6715 - acc: 0.6051"
     ]
    }
   ],
   "source": [
    "#https://www.researchgate.net/post/Neural_Network_How_can_RNN_learn_logical_rules_in_time_sequence\n",
    "from __future__ import print_function\n",
    "import numpy as np\n",
    "import pandas as pd\n",
    "#np.random.seed(1337)  # for reproducibility\n",
    "\n",
    "import matplotlib.pyplot as plt\n",
    "import random\n",
    "import time\n",
    "\n",
    "from keras.preprocessing import sequence\n",
    "from keras.models import Sequential\n",
    "from keras.layers.core import Dense, Dropout, Activation\n",
    "from keras.layers.embeddings import Embedding\n",
    "from keras.layers.recurrent import LSTM, GRU, SimpleRNN\n",
    "from keras.layers.convolutional import Convolution1D, MaxPooling1D\n",
    "\n",
    "seq_len = 10000\n",
    "data = (np.random.rand(1,seq_len,1) * 10000).astype('int')\n",
    "one_pos = np.unique((np.random.rand(seq_len//2) * seq_len).astype('int'))[2:]\n",
    "label = np.zeros((1,seq_len,1),dtype=np.bool)\n",
    "label[0,one_pos,0] = True\n",
    "for pos in one_pos:\n",
    "    data[0,pos,0] = data[0,pos-2,0]\n",
    " \n",
    "data = data.reshape(seq_len, 1, 1)\n",
    "label = label.reshape(seq_len, 1)\n",
    "  \n",
    "model = Sequential()\n",
    "model.add(LSTM(input_dim=1, output_dim=16,return_sequences=False))\n",
    "model.add(Dense(input_dim=16, output_dim=1))\n",
    "model.add(Activation('sigmoid'))\n",
    "\n",
    "model.compile(loss='binary_crossentropy', optimizer='Adadelta', class_mode=\"binary\")\n",
    "\n",
    "model.fit(data, label, batch_size=32, nb_epoch=5, show_accuracy=True)\n",
    "model.predict(data)"
   ]
  },
  {
   "cell_type": "code",
   "execution_count": 24,
   "metadata": {
    "collapsed": false
   },
   "outputs": [
    {
     "data": {
      "text/plain": [
       "(1, 10000, 1)"
      ]
     },
     "execution_count": 24,
     "metadata": {},
     "output_type": "execute_result"
    }
   ],
   "source": [
    "label.shape"
   ]
  },
  {
   "cell_type": "code",
   "execution_count": 26,
   "metadata": {
    "collapsed": false
   },
   "outputs": [
    {
     "data": {
      "text/plain": [
       "(1, 10000, 1)"
      ]
     },
     "execution_count": 26,
     "metadata": {},
     "output_type": "execute_result"
    }
   ],
   "source": [
    "data.shape"
   ]
  },
  {
   "cell_type": "code",
   "execution_count": 33,
   "metadata": {
    "collapsed": false
   },
   "outputs": [
    {
     "data": {
      "text/plain": [
       "array([116])"
      ]
     },
     "execution_count": 33,
     "metadata": {},
     "output_type": "execute_result"
    }
   ],
   "source": [
    "data[0][1]"
   ]
  },
  {
   "cell_type": "code",
   "execution_count": null,
   "metadata": {
    "collapsed": true
   },
   "outputs": [],
   "source": []
  }
 ],
 "metadata": {
  "kernelspec": {
   "display_name": "Python 2",
   "language": "python",
   "name": "python2"
  },
  "language_info": {
   "codemirror_mode": {
    "name": "ipython",
    "version": 2
   },
   "file_extension": ".py",
   "mimetype": "text/x-python",
   "name": "python",
   "nbconvert_exporter": "python",
   "pygments_lexer": "ipython2",
   "version": "2.7.11"
  }
 },
 "nbformat": 4,
 "nbformat_minor": 0
}
