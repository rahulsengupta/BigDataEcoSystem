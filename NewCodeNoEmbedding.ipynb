{
 "cells": [
  {
   "cell_type": "code",
   "execution_count": 10,
   "metadata": {
    "collapsed": false
   },
   "outputs": [
    {
     "ename": "SyntaxError",
     "evalue": "invalid syntax (<ipython-input-10-a9f24a333c21>, line 107)",
     "output_type": "error",
     "traceback": [
      "\u001b[0;36m  File \u001b[0;32m\"<ipython-input-10-a9f24a333c21>\"\u001b[0;36m, line \u001b[0;32m107\u001b[0m\n\u001b[0;31m    model.add(Dropout(0.25))\u001b[0m\n\u001b[0m        ^\u001b[0m\n\u001b[0;31mSyntaxError\u001b[0m\u001b[0;31m:\u001b[0m invalid syntax\n"
     ]
    }
   ],
   "source": [
    "from __future__ import print_function\n",
    "import numpy as np\n",
    "from numpy import newaxis\n",
    "import pandas as pd\n",
    "from keras.preprocessing import sequence\n",
    "from keras.models import Sequential\n",
    "from keras.layers.core import Dense, Dropout, Activation, Flatten\n",
    "from keras.optimizers import SGD\n",
    "#from keras.layers.embeddings import Embedding\n",
    "from keras.layers.convolutional import Convolution1D, MaxPooling1D\n",
    "#from keras.datasets import imdb\n",
    "\n",
    "\n",
    "# set parameters:\n",
    "#max_features = 50000\n",
    "#maxlen = 100\n",
    "batch_size = 32\n",
    "#embedding_dims = 100\n",
    "#nb_filter = 250\n",
    "#filter_length = 3\n",
    "#hidden_dims = 250\n",
    "input_length=100\n",
    "nb_epoch = 10\n",
    "\n",
    "print('Loading data...')\n",
    "data_file1 = \"x_0303_training_new.txt\"\n",
    "data_file2 = \"x_0303_testing_new.txt\"\n",
    "data_file3 = \"y_0303_training.csv\"\n",
    "data_file4 = \"y_0303_testing.csv\"\n",
    "\n",
    "# data loading\n",
    "X_train = np.loadtxt(data_file1, delimiter=',')\n",
    "X_train = X_train[:, :, newaxis]\n",
    "print(X_train.shape)\n",
    "\n",
    "y_train = pd.read_csv(data_file3, delimiter=',', error_bad_lines=False, header=None)\n",
    "y_train = y_train.as_matrix()\n",
    "print(y_train.shape)\n",
    "\n",
    "X_test = np.loadtxt(data_file2, delimiter=',')\n",
    "X_test = X_test[:, :, newaxis]\n",
    "print(X_test.shape)\n",
    "\n",
    "y_test = pd.read_csv(data_file4, delimiter=',', error_bad_lines=False, header=None)\n",
    "y_test = y_test.as_matrix()\n",
    "print(y_test.shape)\n",
    "\n",
    "#print(y_train)\n",
    "#print(y_test)\n",
    "\n",
    "#char = input(\"...\")\t\n",
    "\t\n",
    "#print('Pad sequences (samples x time)')\n",
    "#X_train = sequence.pad_sequences(X_train, maxlen=maxlen)\n",
    "#X_test = sequence.pad_sequences(X_test, maxlen=maxlen)\n",
    "#print('X_train shape:', X_train.shape)\n",
    "#print('X_test shape:', X_test.shape)\n",
    "\n",
    "print('Build model...')\n",
    "model = Sequential()\n",
    "\n",
    "# we start off with an efficient embedding layer which maps\n",
    "# our vocab indices into embedding_dims dimensions\n",
    "#model.add(Embedding(max_features, embedding_dims, input_length=maxlen))\n",
    "#model.add(Dropout(0.25))\n",
    "\n",
    "# we add a Convolution1D, which will learn nb_filter\n",
    "# word group filters of size filter_length:\n",
    "model.add(Convolution1D(nb_filter=64,\n",
    "                        filter_length=5,\n",
    "                        border_mode='valid',\n",
    "                        activation='relu',\n",
    "\t\t\tinput_dim=1, \n",
    "\t\t\tinput_length=input_length))                        \n",
    "model.add(Convolution1D(nb_filter=64,\n",
    "                        filter_length=3,\n",
    "                        border_mode='valid',\n",
    "                        activation='relu'))\n",
    "                        \n",
    "model.add(MaxPooling1D(pool_length=2))\n",
    "\n",
    "model.add(Convolution1D(nb_filter=96,\n",
    "                        filter_length=3,\n",
    "                        border_mode='valid',\n",
    "                        activation='relu'))\n",
    "                        \n",
    "model.add(MaxPooling1D(pool_length=2))\n",
    "\n",
    "model.add(Convolution1D(nb_filter=128,\n",
    "                        filter_length=3,\n",
    "                        border_mode='valid',\n",
    "                        activation='relu'))\n",
    "                        \n",
    "model.add(Convolution1D(nb_filter=128,\n",
    "                        filter_length=3,\n",
    "                        border_mode='valid',\n",
    "                        activation='relu'))\n",
    "\n",
    "# We flatten the output of the conv layer,\n",
    "# so that we can add a vanilla dense layer:\n",
    "model.add(Flatten())\n",
    "\n",
    "#two FC layers\n",
    "model.add(Dense(256), activation('relu'))\n",
    "model.add(Dropout(0.25))\n",
    "model.add(Dense(256, activation('relu'))\n",
    "model.add(Dropout(0.25))\n",
    "# We project onto a single unit output layer, and squash it with a sigmoid:\n",
    "model.add(Dense(1), activation('softmax'))\n",
    "#sgd = SGD(lr=0.0001, decay=1e-6, momentum=0.9, nesterov=True)\n",
    "model.compile(loss='binary_crossentropy',\n",
    "              optimizer='rmsprop',\n",
    "              class_mode='binary')\n",
    "model.fit(X_train, y_train, batch_size=batch_size,\n",
    "          nb_epoch=nb_epoch, show_accuracy=True,\n",
    "          validation_data=(X_test, y_test))"
   ]
  },
  {
   "cell_type": "code",
   "execution_count": 7,
   "metadata": {
    "collapsed": false
   },
   "outputs": [
    {
     "data": {
      "text/plain": [
       "4"
      ]
     },
     "execution_count": 7,
     "metadata": {},
     "output_type": "execute_result"
    }
   ],
   "source": []
  },
  {
   "cell_type": "code",
   "execution_count": null,
   "metadata": {
    "collapsed": true
   },
   "outputs": [],
   "source": []
  }
 ],
 "metadata": {
  "kernelspec": {
   "display_name": "Python 2",
   "language": "python",
   "name": "python2"
  },
  "language_info": {
   "codemirror_mode": {
    "name": "ipython",
    "version": 2
   },
   "file_extension": ".py",
   "mimetype": "text/x-python",
   "name": "python",
   "nbconvert_exporter": "python",
   "pygments_lexer": "ipython2",
   "version": "2.7.11"
  }
 },
 "nbformat": 4,
 "nbformat_minor": 0
}
