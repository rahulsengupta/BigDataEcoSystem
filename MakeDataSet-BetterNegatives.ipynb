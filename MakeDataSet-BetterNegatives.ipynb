{
 "cells": [
  {
   "cell_type": "code",
   "execution_count": 15,
   "metadata": {
    "collapsed": false
   },
   "outputs": [
    {
     "name": "stdout",
     "output_type": "stream",
     "text": [
      "True dataset made\n",
      "False dataset made\n",
      "Test and Train sets made\n"
     ]
    }
   ],
   "source": [
    "from __future__ import print_function\n",
    "import numpy as np\n",
    "import pandas as pd\n",
    "#np.random.seed(1337)  # for reproducibility\n",
    "\n",
    "import matplotlib.pyplot as plt\n",
    "import random\n",
    "\n",
    "\n",
    "TdataSamples = 10\n",
    "FdataSamples = 10\n",
    "dataPoints = 30 #No. of data points, should be 73440 for 17 quarters\n",
    "min_period = 2\n",
    "max_period = int(dataPoints / 4)\n",
    "testSetSize = 0.2\n",
    "\n",
    "\n",
    "def gen_Tsignal(dataPoints, min_period, max_period):\n",
    "        signal = []\n",
    "        period = np.random.randint(min_period,max_period)\n",
    "    \n",
    "        for i in range(dataPoints):\n",
    "            if( ( i % period) == 0):\n",
    "                signal.append(1)\n",
    "            else:\n",
    "                signal.append(0)\n",
    "        \n",
    "        #signal = np.array(signal)\n",
    "        \n",
    "        \n",
    "        if(signal[-1] == 0):\n",
    "            signal = np.roll(signal, 1)\n",
    "            if(signal[-1] == 0):\n",
    "                signal = np.roll(signal, 1)\n",
    "                if(signal[-1] == 0):\n",
    "                    signal = np.roll(signal, 1)\n",
    "            \n",
    "        else:\n",
    "            signal = np.roll(signal, 0)\n",
    "\n",
    "        #print(signal)\n",
    "        return(signal)\n",
    "\n",
    "\n",
    "def gen_Fsignal_OLD(dataPoints):\n",
    "        signal = []\n",
    "    \n",
    "        for i in range(dataPoints):\n",
    "            rflag = np.random.randint(0, 2)\n",
    "            if( rflag == 1):\n",
    "                signal.append(1)\n",
    "            else:\n",
    "                signal.append(0)\n",
    "        \n",
    "        signal = np.array(signal)\n",
    "        return(signal)\n",
    "    \n",
    "def gen_Fsignal(dataPoints, min_period, max_period):\n",
    "        signal = []\n",
    "        signal = gen_Tsignal(dataPoints, min_period, max_period)\n",
    "        \n",
    "        \n",
    "        \n",
    "        for i in range( int(dataPoints/5) ):\n",
    "            rloc = np.random.randint(0, (dataPoints-1) )\n",
    "            #print(rloc)\n",
    "            #print(\"Signal Rloc is prev \", signal[rloc])\n",
    "            signal[rloc] = (1,0)[signal[rloc] == 1]\n",
    "            #print(\"Signal Rloc is \", signal[rloc])\n",
    "        \n",
    "        signal = np.array(signal)\n",
    "        #print(signal)\n",
    "        return(signal)  \n",
    "\n",
    "\n",
    "\n",
    "def gen_Tdata(TdataSamples, dataPoints, min_period, max_period):\n",
    "        \n",
    "        TdatasetList = []\n",
    "        for i in range(TdataSamples):\n",
    "            signal = []\n",
    "            signal = gen_Tsignal(dataPoints, min_period, max_period)\n",
    "            #print(signal)\n",
    "            TdatasetList.append(signal)\n",
    "        \n",
    "        Tdataset = np.array(TdatasetList)\n",
    "        return(Tdataset)\n",
    "\n",
    "\n",
    "Tdataset = gen_Tdata(TdataSamples, dataPoints, min_period, max_period)\n",
    "\n",
    "X_True = Tdataset\n",
    "y_True = np.ones(TdataSamples).tolist()\n",
    "#print(X_True)\n",
    "#print(y_True)\n",
    "print(\"True dataset made\")\n",
    "\n",
    "\n",
    "def gen_Fdata(FdataSamples, dataPoints, min_period, max_period):\n",
    "        FdatasetList = []\n",
    "        for i in range(FdataSamples):\n",
    "            signal = []\n",
    "            signal = gen_Fsignal(dataPoints, min_period, max_period)\n",
    "            #print(signal)\n",
    "            FdatasetList.append(signal)\n",
    "        \n",
    "        Fdataset = np.array(FdatasetList)\n",
    "        return(Fdataset)\n",
    "    \n",
    "\n",
    "\n",
    "    \n",
    "    \n",
    "Fdataset = gen_Fdata(FdataSamples, dataPoints, min_period, max_period)\n",
    "\n",
    "X_False = Fdataset\n",
    "y_False = np.zeros(FdataSamples).tolist()\n",
    "#print(X_False)\n",
    "#print(y_False)\n",
    "print(\"False dataset made\")\n",
    "\n",
    "X = np.concatenate( (X_True, X_False) , axis = 0)\n",
    "y = np.concatenate( (y_True, y_False) , axis = 0)\n",
    "\n",
    "X = np.array(X)\n",
    "y = np.array(y)\n",
    "\n",
    "\n",
    "testIdx = random.sample(range(0, len(X)), int(testSetSize * len(X) ))\n",
    "trainIdx = list( set(range(0, len(X))) - set(testIdx) )\n",
    "random.shuffle(trainIdx)\n",
    "\n",
    "X_train = [X[i] for i in trainIdx]\n",
    "X_test = [X[i] for i in testIdx]\n",
    "\n",
    "y_train = [y[i] for i in trainIdx]\n",
    "y_test = [y[i] for i in testIdx]\n",
    "\n",
    "X_train = np.array(X_train)\n",
    "y_train = np.array(y_train)\n",
    "X_test = np.array(X_test)\n",
    "y_test = np.array(y_test)\n",
    "\n",
    "#print(X_train)\n",
    "#print(y_train)\n",
    "\n",
    "#print(X_test)\n",
    "#print(y_test)\n",
    "\n",
    "print(\"Test and Train sets made\")"
   ]
  },
  {
   "cell_type": "code",
   "execution_count": 17,
   "metadata": {
    "collapsed": false
   },
   "outputs": [
    {
     "data": {
      "text/plain": [
       "(16, 30)"
      ]
     },
     "execution_count": 17,
     "metadata": {},
     "output_type": "execute_result"
    }
   ],
   "source": [
    "X_train.shape\n",
    "\n"
   ]
  },
  {
   "cell_type": "code",
   "execution_count": 153,
   "metadata": {
    "collapsed": false
   },
   "outputs": [
    {
     "name": "stdout",
     "output_type": "stream",
     "text": [
      "[1.0, 0.0, 0.0, 1.0, 1.0, 0.0, 1.0]\n"
     ]
    }
   ],
   "source": [
    "print(y_train)\n"
   ]
  },
  {
   "cell_type": "code",
   "execution_count": 155,
   "metadata": {
    "collapsed": false
   },
   "outputs": [
    {
     "data": {
      "text/plain": [
       "1"
      ]
     },
     "execution_count": 155,
     "metadata": {},
     "output_type": "execute_result"
    }
   ],
   "source": [
    "int(testSetSize * len(X) )"
   ]
  },
  {
   "cell_type": "code",
   "execution_count": 156,
   "metadata": {
    "collapsed": false
   },
   "outputs": [
    {
     "data": {
      "text/plain": [
       "1.6"
      ]
     },
     "execution_count": 156,
     "metadata": {},
     "output_type": "execute_result"
    }
   ],
   "source": [
    "testSetSize * len(X) "
   ]
  },
  {
   "cell_type": "code",
   "execution_count": 9,
   "metadata": {
    "collapsed": false
   },
   "outputs": [
    {
     "data": {
      "text/plain": [
       "6"
      ]
     },
     "execution_count": 9,
     "metadata": {},
     "output_type": "execute_result"
    }
   ],
   "source": [
    "int(dataPoints/5)"
   ]
  },
  {
   "cell_type": "code",
   "execution_count": null,
   "metadata": {
    "collapsed": true
   },
   "outputs": [],
   "source": []
  }
 ],
 "metadata": {
  "kernelspec": {
   "display_name": "Python 2",
   "language": "python",
   "name": "python2"
  },
  "language_info": {
   "codemirror_mode": {
    "name": "ipython",
    "version": 2
   },
   "file_extension": ".py",
   "mimetype": "text/x-python",
   "name": "python",
   "nbconvert_exporter": "python",
   "pygments_lexer": "ipython2",
   "version": "2.7.11"
  }
 },
 "nbformat": 4,
 "nbformat_minor": 0
}
